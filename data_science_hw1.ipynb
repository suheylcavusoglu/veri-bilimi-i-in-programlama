{
 "cells": [
  {
   "attachments": {},
   "cell_type": "markdown",
   "metadata": {},
   "source": [
    "## _**Veri Bilimi İçin Programlama Dersi Ödev 1**_\n",
    "### _Son Teslim Tarihi: 09.11.2022    Saat: 23:59_\n",
    "### _Süheyl Çavuşoğlu_\n",
    "\n",
    "Aşağıda özellikleri belirtilen Ev isimli sınıfı Python dilinde Jupyter Notebook derleyicisinde oluşturun.\n",
    "- Ev isimli bir sınıfı oluşturun ve sınıfta yapıcı (İng. Constructor) fonksiyon tanımlayın. Yapıcı fonksiyon oda sayısı ve tür değişkenlerine sahip olmalıdır.\n",
    "- Ev sınıfından oluşturulacak nesne sayısını tutan sayac isimli statik değişken oluşturun. Bu değişkenin değeri sınıftan her nesne oluşturulduğunda 1 artacaktır.\n",
    "- tur_degistir() isimli fonksiyon tanımlayın. Bu fonksiyon Ev türünü “Daire” olarak atamalıdır.\n",
    "- alan_degistir isimli fonksiyon tanımlayın. Bu fonksiyon evin odalarının alan değerlerini m2 cinsinden parametre olarak alacak ve sınıf değişkeni olarak atayacaktır.\n",
    "- fiyat_hesapla() isimli fonksiyon tanımlayın. Bu fonksiyon evin türüne ve toplam alanını göre fiyatını hesaplayacaktır. Evin m2 cinsinden fiyatı türüne göre değişecektir. Eğer evin türü “Villa” ise m2 fiyatı 5000 TL, “Daire” ise 3000 TL olacaktır. Bu iki türün dışında kalanların m2 fiyatı 2000 TL olarak belirlenecektir.\n",
    "- bilgi_goster() isimli fonksiyon tanımlayın. Bu fonksiyon evin bilgilerini ekrana yazdırmalıdır (oda sayısı, tür ve fiyat).\n",
    "- fiyat_goster() isimli fonksiyon tanımlayın. Bu fonksiyon Ev sınıfından tanımlanmış tüm ev nesnelerin fiyatlarını ekrana yazdıracaktır.\n",
    "- yuksek_fiyat_bul() isimli fonksiyon Ev sınıfından tanımlanmış ev nesnelerden en yüksek fiyata sahip evin fiyatını ve türünü döndürmelidir.\n",
    "- Ev isimli sınıftan Isyeri sınıfını türetin.\n",
    "-  Isyeri sınıfında tur_degistir() isimli fonksiyonu güncelleyin. Bu fonksiyon evin türünü “Dükkan” olarak atamalıdır.\n",
    "- Sınıf tanımlamalarından sonra bu sınıflardan 4 tane Ev, 2 tane de Isyeri nesnesi oluşturun. Her nesneniz en az 3 odaya sahip olmalıdır. Oluşturulan 6 nesne için fonksiyonların tümünü çağırın."
   ]
  },
  {
   "attachments": {},
   "cell_type": "markdown",
   "metadata": {},
   "source": [
    "Burada ödev ile ilgili kodları yazıyoruz."
   ]
  },
  {
   "cell_type": "code",
   "execution_count": 83,
   "metadata": {},
   "outputs": [],
   "source": [
    "\n",
    "class Ev:\n",
    "    sayac = 0\n",
    "    alan = 0\n",
    "    fiyat = 0\n",
    "    instances = []\n",
    "    def __init__(self, oda_sayisi, tur):\n",
    "        self.oda_sayisi = oda_sayisi\n",
    "        self.tur = tur\n",
    "        Ev.sayac += 1\n",
    "        Ev.instances.append(self)\n",
    "\n",
    "    def tur_degistir(self):\n",
    "        self.tur = \"Daire\"\n",
    "\n",
    "    def alan_degistir(self, oda_alanlari):\n",
    "        if self.alan == 0:\n",
    "            for i in oda_alanlari:\n",
    "                self.alan += i\n",
    "                \n",
    "    def fiyat_hesapla(self):\n",
    "        if self.fiyat == 0:\n",
    "            if self.tur == \"Villa\":\n",
    "                self.fiyat = 5000*self.alan\n",
    "            elif self.tur == \"Daire\":\n",
    "                self.fiyat = 3000*self.alan\n",
    "            else:\n",
    "                self.fiyat = 2000*self.alan\n",
    "\n",
    "    def bilgi_goster(self):\n",
    "        print(\"Oda sayısı: {}, Türü: {}, Fiyatı: {}TL\".format(self.oda_sayisi, self.tur, self.fiyat))\n",
    "        \n",
    "def fiyat_goster():\n",
    "    for i in Ev.instances:\n",
    "        print(\"Fiyat: {}TL bulunmuştur.\".format(i.fiyat))\n",
    "    \n",
    "def yuksek_fiyat_bul():\n",
    "    max_fiyat = -1\n",
    "    max_fiyatli_ev_indice = -1\n",
    "    for i in range(len(Ev.instances)):\n",
    "        if Ev.instances[i].fiyat > max_fiyat:\n",
    "            max_fiyat = Ev.instances[i].fiyat\n",
    "            max_fiyatli_ev_indice = i\n",
    "    print(\"En pahalı evin fiyatı {} TL'dir ve türü de {}'dır\".format(Ev.instances[max_fiyatli_ev_indice].fiyat, Ev.instances[max_fiyatli_ev_indice].tur))\n",
    "\n",
    "class Isyeri(Ev):\n",
    "    def tur_degistir(self):\n",
    "        self.tur = \"Dükkan\""
   ]
  },
  {
   "attachments": {},
   "cell_type": "markdown",
   "metadata": {},
   "source": [
    "Yazdığımız kodları çalıştırmak için 4 tanesi Ev, 2 tanesi Isyeri sınıfından olmak üzere toplamda 6 tane nesne oluşturuyoruz."
   ]
  },
  {
   "cell_type": "code",
   "execution_count": 84,
   "metadata": {},
   "outputs": [],
   "source": [
    "birinci_ev = Ev(4, \"Daire\")\n",
    "ikinci_ev = Ev(5, \"Daire\")\n",
    "ucuncu_ev = Ev(5, \"Villa\")\n",
    "dorduncu_ev = Ev(7, \"Villa\")\n",
    "birinci_isyeri = Isyeri(3, \"Dükkan\")\n",
    "ikinci_isyeri = Isyeri(4, \"Dükkan\")"
   ]
  },
  {
   "attachments": {},
   "cell_type": "markdown",
   "metadata": {},
   "source": [
    "Nesne oluşturdukça, oluşturduğumuz nesnelerin toplam sayısını tutan sayacı kontrol ediyoruz."
   ]
  },
  {
   "cell_type": "code",
   "execution_count": 85,
   "metadata": {},
   "outputs": [
    {
     "data": {
      "text/plain": [
       "6"
      ]
     },
     "execution_count": 85,
     "metadata": {},
     "output_type": "execute_result"
    }
   ],
   "source": [
    "Ev.sayac"
   ]
  },
  {
   "attachments": {},
   "cell_type": "markdown",
   "metadata": {},
   "source": [
    "Oluşturduğumuz her bir nesne için odaların alan değerlerini veriyoruz. "
   ]
  },
  {
   "cell_type": "code",
   "execution_count": 86,
   "metadata": {},
   "outputs": [],
   "source": [
    "birinci_ev.alan_degistir([15,15,25,45])\n",
    "ikinci_ev.alan_degistir([20,20,35,35,50])\n",
    "ucuncu_ev.alan_degistir([25,25,30,30,50])\n",
    "dorduncu_ev.alan_degistir([25,25,30,30,50,60,65])\n",
    "birinci_isyeri.alan_degistir([20,25,30])\n",
    "ikinci_isyeri.alan_degistir([10,15,20,35])"
   ]
  },
  {
   "attachments": {},
   "cell_type": "markdown",
   "metadata": {},
   "source": [
    "Alanları belirlenen nesnelerimizin fiyatlarını hesaplıyoruz."
   ]
  },
  {
   "cell_type": "code",
   "execution_count": 87,
   "metadata": {},
   "outputs": [],
   "source": [
    "for i in Ev.instances:\n",
    "    i.fiyat_hesapla()"
   ]
  },
  {
   "attachments": {},
   "cell_type": "markdown",
   "metadata": {},
   "source": [
    "Fiyatları hesaplanan nesnelerin fiyatlarını ekrana yazdırıyoruz."
   ]
  },
  {
   "cell_type": "code",
   "execution_count": 88,
   "metadata": {},
   "outputs": [
    {
     "name": "stdout",
     "output_type": "stream",
     "text": [
      "Fiyat: 300000TL bulunmuştur.\n",
      "Fiyat: 480000TL bulunmuştur.\n",
      "Fiyat: 800000TL bulunmuştur.\n",
      "Fiyat: 1425000TL bulunmuştur.\n",
      "Fiyat: 150000TL bulunmuştur.\n",
      "Fiyat: 160000TL bulunmuştur.\n"
     ]
    }
   ],
   "source": [
    "fiyat_goster()"
   ]
  },
  {
   "attachments": {},
   "cell_type": "markdown",
   "metadata": {},
   "source": [
    "Oda sayıları, türleri ve fiyatları belirlenen nesneleri ekrana yazdırıyoruz."
   ]
  },
  {
   "cell_type": "code",
   "execution_count": 89,
   "metadata": {},
   "outputs": [
    {
     "name": "stdout",
     "output_type": "stream",
     "text": [
      "Oda sayısı: 4, Türü: Daire, Fiyatı: 300000TL\n",
      "Oda sayısı: 5, Türü: Daire, Fiyatı: 480000TL\n",
      "Oda sayısı: 5, Türü: Villa, Fiyatı: 800000TL\n",
      "Oda sayısı: 7, Türü: Villa, Fiyatı: 1425000TL\n",
      "Oda sayısı: 3, Türü: Dükkan, Fiyatı: 150000TL\n",
      "Oda sayısı: 4, Türü: Dükkan, Fiyatı: 160000TL\n"
     ]
    }
   ],
   "source": [
    "for i in Ev.instances:\n",
    "    i.bilgi_goster()"
   ]
  },
  {
   "attachments": {},
   "cell_type": "markdown",
   "metadata": {},
   "source": [
    "Elde ettiğimiz nesneler arasından en yüksek fiyata sahip olanın fiyatını ve türünü bulup ekrana yazdırıyoruz."
   ]
  },
  {
   "cell_type": "code",
   "execution_count": 90,
   "metadata": {},
   "outputs": [
    {
     "name": "stdout",
     "output_type": "stream",
     "text": [
      "En pahalı evin fiyatı 1425000 TL'dir ve türü de Villa'dır\n"
     ]
    }
   ],
   "source": [
    "yuksek_fiyat_bul()"
   ]
  }
 ],
 "metadata": {
  "kernelspec": {
   "display_name": "Python 3.9.2 64-bit",
   "language": "python",
   "name": "python3"
  },
  "language_info": {
   "codemirror_mode": {
    "name": "ipython",
    "version": 3
   },
   "file_extension": ".py",
   "mimetype": "text/x-python",
   "name": "python",
   "nbconvert_exporter": "python",
   "pygments_lexer": "ipython3",
   "version": "3.9.2"
  },
  "orig_nbformat": 4,
  "vscode": {
   "interpreter": {
    "hash": "cdfc03b9e8b1be78256861c432074ab725f06a38536a47f76a84eb781a3309dc"
   }
  }
 },
 "nbformat": 4,
 "nbformat_minor": 2
}
