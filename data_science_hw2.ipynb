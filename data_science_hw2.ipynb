{
 "cells": [
  {
   "attachments": {},
   "cell_type": "markdown",
   "metadata": {},
   "source": [
    "## _**Veri Bilimi İçin Programlama Dersi Ödev 2**_\n",
    "### _Süheyl Çavuşoğlu_\n",
    "_Açıklama: Bu ödevde “numpy” modülü ile ilgili soruların cevaplarını içeren bir Jupyter Notebook oluşturmanız beklenmektedir. Sorular birbirinden bağımsızdır ve eşit puanlıdır._"
   ]
  },
  {
   "attachments": {},
   "cell_type": "markdown",
   "metadata": {},
   "source": [
    "1-) A= [1,2,0,0,4,0] listesinde sıfır olmayan öğelerin indislerini bulunuz."
   ]
  },
  {
   "cell_type": "code",
   "execution_count": 1,
   "metadata": {},
   "outputs": [
    {
     "name": "stdout",
     "output_type": "stream",
     "text": [
      "(array([0, 1, 4], dtype=int64),)\n"
     ]
    }
   ],
   "source": [
    "import numpy as np\n",
    "\n",
    "A = [1,2,0,0,4,0] # İçerisinde 6 eleman olan bir liste oluşturuyoruz ve bunu A değişkenine atıyoruz.\n",
    "indisler = np.nonzero(A) # nonzero metodu ile A listesindeki sıfır olmayan öğelerin indislerini buluyoruz ve bunu 'indisler' değişkenine atıyoruz.\n",
    "print(indisler) # indisler değişkenini ekrana yazdırıyoruz."
   ]
  },
  {
   "attachments": {},
   "cell_type": "markdown",
   "metadata": {},
   "source": [
    "2-) 30 elemanlı rastgele bir vektör oluşturunuz ve bu vektör elemanlarının ortalama değerini bulunuz."
   ]
  },
  {
   "cell_type": "code",
   "execution_count": 2,
   "metadata": {},
   "outputs": [
    {
     "name": "stdout",
     "output_type": "stream",
     "text": [
      "-181.9\n"
     ]
    }
   ],
   "source": [
    "import numpy as np\n",
    "\n",
    "# random.randint metodunu kullanarak rastgele 30 eleman oluşturuyoruz ve bu elemanları 'a' değişkenine atıyoruz.\n",
    "a = np.random.randint(low=-999, high=999, size=30)\n",
    "#print(a)\n",
    "# mean metodu ile de rastgele oluşturulan 30 elemanın ortalamasını buluyoruz ve bu bilgiyi 'mean' değişkenine atıyoruz.\n",
    "mean = np.mean(a)\n",
    "print(mean) # 30 elemanın ortalamasını ekrana yazdırıyoruz."
   ]
  },
  {
   "attachments": {},
   "cell_type": "markdown",
   "metadata": {},
   "source": [
    "3-) İki dizi arasındaki ortak değerleri bulan fonksiyonu tanımlayınız."
   ]
  },
  {
   "cell_type": "code",
   "execution_count": 3,
   "metadata": {},
   "outputs": [
    {
     "name": "stdout",
     "output_type": "stream",
     "text": [
      "[3 4 5]\n"
     ]
    }
   ],
   "source": [
    "import numpy as np\n",
    "\n",
    "arr1 = np.array([1,2,3,4,5]) # Birinci arrayimizi oluşturuyoruz ve 'arr1' değişkenine atıyoruz.\n",
    "arr2 = np.array([3,4,5,6,7]) # İkinci arrayimizi oluşturuyoruz ve 'arr2' değişkenine atıyoruz.\n",
    "intersect = np.intersect1d(arr1, arr2) # 'intersect1d' metodunu kulanarak iki arrayimizde ortak değerleri buluyoruz ve bunları intersect değişkenine atıyoruz.\n",
    "print(intersect) # Ortak değerleri ekrana yazdırıyoruz."
   ]
  },
  {
   "attachments": {},
   "cell_type": "markdown",
   "metadata": {},
   "source": [
    "4-) 10 elemanlı rastgele bir vektör oluşturunuz ve vektörün elemanları büyükten küçüğe doğru sıralayınız."
   ]
  },
  {
   "cell_type": "code",
   "execution_count": 4,
   "metadata": {},
   "outputs": [
    {
     "name": "stdout",
     "output_type": "stream",
     "text": [
      "[ 1.32761811  1.26169237  1.08443684  0.60381134  0.24306656 -0.14037387\n",
      " -0.50519922 -0.8131343  -1.11567643 -1.53232898]\n"
     ]
    }
   ],
   "source": [
    "import numpy as np\n",
    "\n",
    "# Bu sefer random.rand metodunu kullanarak 10 elemanlı bir rastgele dizi oluşturalım.\n",
    "arr = np.random.randn(10)\n",
    "\n",
    "# Daha sora sort metodunu kullanarak oluşturduğumuz diziyi büyükten küçüğe doğru sıralayalım ve bunun çıktısını 'sorted_arr' değişkenine atayalım.\n",
    "sorted_arr = np.sort(arr)[::-1] # sort metodu ile küçükten büyüğe sıralandığı için biz bunu \"::-1\" ile tersine çevirdik yani büyükten küçüğe sıralamış olduk.\n",
    "\n",
    "print(sorted_arr)  # Sonucu ekrana yazdıralım"
   ]
  },
  {
   "attachments": {},
   "cell_type": "markdown",
   "metadata": {},
   "source": [
    "5-) 6X6 boyutunda rastgele elemanlara sahip bir matris oluşturunuz ve bu matrisin satır ve sütunlarının ortalama değerlerini hesaplayınız."
   ]
  },
  {
   "cell_type": "code",
   "execution_count": 5,
   "metadata": {},
   "outputs": [
    {
     "name": "stdout",
     "output_type": "stream",
     "text": [
      "[[0.66148698 0.66573035 0.56229006 0.69414146 0.66014699 0.01337017]\n",
      " [0.38149471 0.2091399  0.50474557 0.79683683 0.79636073 0.34604726]\n",
      " [0.8384197  0.24677695 0.09498487 0.02810807 0.4559936  0.49019293]\n",
      " [0.92890477 0.26061238 0.97422202 0.790246   0.03532188 0.88192401]\n",
      " [0.95041229 0.59514168 0.57445077 0.97599097 0.00172641 0.55125133]\n",
      " [0.50929707 0.39945643 0.34662616 0.66467107 0.59516664 0.95851479]]\n",
      "Satırların ortalaması: [0.542861   0.50577083 0.35907935 0.64520517 0.60816224 0.57895536]\n",
      "Sütunların ortalaması: [0.71166925 0.39614295 0.50955324 0.6583324  0.42411937 0.54021675]\n"
     ]
    }
   ],
   "source": [
    "import numpy as np\n",
    "\n",
    "matris = np.random.rand(6, 6) # İlk olarak random.rand metodunu kullanarak, 6x6 boyutunda rastgele sayılardan oluşan bir matris oluşturuyoruz.\n",
    "print(matris) # oluşturulan matrisi ekrana yazdırıp görelim.\n",
    "\n",
    "satirlarin_ort = np.mean(matris, axis=1) # Daha sonra bizden istendiği şekilde, oluşturduğumuz matrisin her satırının ortalamasını hesaplayalım.\n",
    "\n",
    "sutunlarin_ort = np.mean(matris, axis=0) # Sütunların ortalamasını hesaplayalım.\n",
    "\n",
    "# ortalama değerleri yazdırın\n",
    "print(\"Satırların ortalaması: {}\".format(satirlarin_ort))\n",
    "print(\"Sütunların ortalaması: {}\".format(sutunlarin_ort))"
   ]
  },
  {
   "attachments": {},
   "cell_type": "markdown",
   "metadata": {},
   "source": [
    "6-) Tanımlanmış A=[1, 2, 3, 4, 5] vektörünün her değerin arasına ardışık 3 sıfır eklenmiş yeni bir vektör oluşturunuz."
   ]
  },
  {
   "cell_type": "code",
   "execution_count": 6,
   "metadata": {},
   "outputs": [
    {
     "name": "stdout",
     "output_type": "stream",
     "text": [
      "A  =  [1 2 3 4 5]\n",
      "B1 =  [1 0 0 0 2 3 4 5]\n",
      "B2 =  [1 0 0 0 2 0 0 0 3 4 5]\n",
      "B3 =  [1 0 0 0 2 0 0 0 3 0 0 0 4 5]\n",
      "B4 =  [1 0 0 0 2 0 0 0 3 0 0 0 4 0 0 0 5]\n",
      "B5 =  [1 0 0 0 2 0 0 0 3 0 0 0 4 0 0 0 5 0 0 0]\n"
     ]
    }
   ],
   "source": [
    "import numpy as np\n",
    "\n",
    "A = np.array([1, 2, 3, 4, 5]) # Vektörümüzü oluşturduk.\n",
    "\n",
    "# Her değerin arasına 3 sıfır ekleyen vektörler oluşturduk.\n",
    "B1 = np.insert(A, 1, [0,0,0])\n",
    "B2 = np.insert(B1, 5, [0,0,0])\n",
    "B3 = np.insert(B2, 9, [0,0,0])\n",
    "B4 = np.insert(B3, 13, [0,0,0])\n",
    "B5 = np.insert(B4, 17, [0,0,0])\n",
    "\n",
    "# Sonuçları ekrana yazdırdık.\n",
    "print(\"A  = \", A)\n",
    "print(\"B1 = \", B1)\n",
    "print(\"B2 = \", B2)\n",
    "print(\"B3 = \", B3)\n",
    "print(\"B4 = \", B4)\n",
    "print(\"B5 = \", B5)"
   ]
  },
  {
   "attachments": {},
   "cell_type": "markdown",
   "metadata": {},
   "source": [
    "7-) Bir dizide en sık kullanılan değer bulan fonksiyonu yazınız."
   ]
  },
  {
   "cell_type": "code",
   "execution_count": 7,
   "metadata": {},
   "outputs": [
    {
     "name": "stdout",
     "output_type": "stream",
     "text": [
      "Array: [7 2 8 9 7 6 2 4 5 1 1 8 9 0 2]\n",
      "Bu arrayde en çok kullanılan değer 2'dir\n"
     ]
    }
   ],
   "source": [
    "import numpy as np\n",
    "\n",
    "# Öncelikle bir array oluşturalım. \n",
    "arr = np.array([7, 2, 8, 9, 7, 6, 2, 4, 5, 1, 1, 8, 9, 0, 2])\n",
    "\n",
    "# Daha sonra oluşturduğumuz arrayde en çok kullanılan değeri bulan bir fonksiyon yazalım.\n",
    "def en_cok_kullanilan_deger(arr):\n",
    "  # Arrayimizde en cok kullanılan değeri bulalım ve sayısını döndürelim.\n",
    "  sayilar, sayi = np.unique(arr, return_counts=True)\n",
    "  en_cok = sayilar[np.argmax(sayi)]\n",
    "  return en_cok\n",
    "\n",
    "en_cok_kullanilan = en_cok_kullanilan_deger(arr)\n",
    "\n",
    "# Sonuçları yazdırın\n",
    "print(\"Array:\", arr)\n",
    "print(\"Bu arrayde en çok kullanılan değer {}'dir\".format(en_cok_kullanilan))"
   ]
  },
  {
   "attachments": {},
   "cell_type": "markdown",
   "metadata": {},
   "source": [
    "8-) Z = [1,2,3,4,5,6,7,8,9,10,11,12,13,14] dizisini tanımlayınız. Z dizisini R = [[1,2,3,4], [2,3,4,5], [3,4,5,6], ..., [11,12,13,14]] dizisi şekline dönüştürünüz."
   ]
  },
  {
   "cell_type": "code",
   "execution_count": 8,
   "metadata": {},
   "outputs": [
    {
     "name": "stdout",
     "output_type": "stream",
     "text": [
      "[[ 1  2  3  4]\n",
      " [ 2  3  4  5]\n",
      " [ 3  4  5  6]\n",
      " [ 4  5  6  7]\n",
      " [ 5  6  7  8]\n",
      " [ 6  7  8  9]\n",
      " [ 7  8  9 10]\n",
      " [ 8  9 10 11]\n",
      " [ 9 10 11 12]\n",
      " [10 11 12 13]\n",
      " [11 12 13 14]]\n"
     ]
    }
   ],
   "source": [
    "import numpy as np\n",
    "\n",
    "Z_list = [1, 2, 3, 4, 5, 6, 7, 8, 9, 10, 11, 12, 13, 14]\n",
    "\n",
    "Z = np.array(Z_list) # Z isminde 1'den 14'e kadar olan arrayimizi oluşturuyoruz.\n",
    "\n",
    "R = np.array([Z[0:4], Z[1:5], Z[2:6], Z[3:7], Z[4:8], Z[5:9], Z[6:10],Z[7:11], Z[8:12], Z[9:13], Z[10:14]]) # Z arrayindeki elemanları ayırarak R arrayini oluşturduk.\n",
    "\n",
    "print(R) # R arrayini ekrana yazdırdık."
   ]
  },
  {
   "attachments": {},
   "cell_type": "markdown",
   "metadata": {},
   "source": [
    "9-) A = [9,2,3,2,5,4,12,4,5,6] ve B = [7,2,11,2,7,4,8,4,13,8] dizileri öğelerinin eşleştiği konumları elde ediniz."
   ]
  },
  {
   "cell_type": "code",
   "execution_count": 9,
   "metadata": {},
   "outputs": [
    {
     "name": "stdout",
     "output_type": "stream",
     "text": [
      "(array([1, 3, 5, 7], dtype=int64),)\n"
     ]
    }
   ],
   "source": [
    "import numpy as np\n",
    "\n",
    "# Bizden istenen arrayleri oluşturuyoruz.\n",
    "A = np.array([9,2,3,2,5,4,12,4,5,6])\n",
    "B = np.array([7,2,11,2,7,4,8,4,13,8])\n",
    "\n",
    "# Daha sonra oluşturulan iki array içerisinde birbiri ile eşleşen öğelerin indislerini belirlemek için where metodunu kullanıyoruz.\n",
    "eslesme_olan_indisler = np.where(A == B)\n",
    "\n",
    "# Eşleşen öğelerin indislerini ekrana yazdırıyoruz.\n",
    "print(eslesme_olan_indisler)"
   ]
  },
  {
   "attachments": {},
   "cell_type": "markdown",
   "metadata": {},
   "source": [
    "10-) 4X4 boyutunda rastgele elemanlara sahip bir matris oluşturunuz ve bu matrisin 2. Ve 3. Sütunlarının yerlerini bir hamlede değiştiriniz."
   ]
  },
  {
   "cell_type": "code",
   "execution_count": 10,
   "metadata": {},
   "outputs": [
    {
     "name": "stdout",
     "output_type": "stream",
     "text": [
      "İlk arrayimiz: \n",
      "[[-1.05117031  0.81470557  1.36429775  0.71599752]\n",
      " [-0.70639917 -0.74810625  1.05136596  0.7221496 ]\n",
      " [-0.58413892 -1.22472611 -0.03697961  0.30955142]\n",
      " [ 0.71975726  1.17139513  0.92383246  2.32097539]]\n",
      "2. ve 3. sütunlaırn yerleri değiştikten sonraki arrayimiz:\n",
      "[[-1.05117031  1.36429775  0.81470557  0.71599752]\n",
      " [-0.70639917  1.05136596 -0.74810625  0.7221496 ]\n",
      " [-0.58413892 -0.03697961 -1.22472611  0.30955142]\n",
      " [ 0.71975726  0.92383246  1.17139513  2.32097539]]\n"
     ]
    }
   ],
   "source": [
    "import numpy as np\n",
    "\n",
    "arr = np.random.randn(4,4) # İlk olarak rastgele 4x4 boyutunda bir array oluşturalım.\n",
    "print(\"İlk arrayimiz: \")\n",
    "print(arr)                 # Oluşturduğumuz arrayi görmek için ekrana yazdıralım.\n",
    "\n",
    "#Daha sonra oluşturulan arraydeki 2. ve 3. sütunların yerlerini değiştirelim.\n",
    "arr[:, [1, 2]] = arr[:, [2, 1]]\n",
    "print(\"2. ve 3. sütunlaırn yerleri değiştikten sonraki arrayimiz:\")\n",
    "print(arr) # Sütunların yerleri değiştikten sonraki arrayimizi ekrana yazdıralım."
   ]
  }
 ],
 "metadata": {
  "kernelspec": {
   "display_name": "Python 3.9.2 64-bit",
   "language": "python",
   "name": "python3"
  },
  "language_info": {
   "codemirror_mode": {
    "name": "ipython",
    "version": 3
   },
   "file_extension": ".py",
   "mimetype": "text/x-python",
   "name": "python",
   "nbconvert_exporter": "python",
   "pygments_lexer": "ipython3",
   "version": "3.9.2"
  },
  "orig_nbformat": 4,
  "vscode": {
   "interpreter": {
    "hash": "cdfc03b9e8b1be78256861c432074ab725f06a38536a47f76a84eb781a3309dc"
   }
  }
 },
 "nbformat": 4,
 "nbformat_minor": 2
}
